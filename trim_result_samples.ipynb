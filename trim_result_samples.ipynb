{
 "cells": [
  {
   "cell_type": "code",
   "execution_count": 17,
   "metadata": {},
   "outputs": [],
   "source": [
    "import os\n",
    "import json\n",
    "import shutil\n",
    "import sys\n",
    "import re"
   ]
  },
  {
   "cell_type": "code",
   "execution_count": 18,
   "metadata": {},
   "outputs": [],
   "source": [
    "def find_duplicates(data):\n",
    "    \"\"\"\n",
    "    Return a list of IDs that appear more than once in the data.\n",
    "    \"\"\"\n",
    "    counts = {}\n",
    "    for item in data:\n",
    "        # Safely get 'id' field\n",
    "        id_ = item.get(\"id\")\n",
    "        if id_ is not None:\n",
    "            counts[id_] = counts.get(id_, 0) + 1\n",
    "    # Extract IDs with count > 1\n",
    "    return [id_ for id_, count in counts.items() if count > 1]\n",
    "\n",
    "def find_missing_ids(data):\n",
    "    \"\"\"\n",
    "    Extract the numeric suffix from each 'id', then identify\n",
    "    any missing numbers in the continuous range between the\n",
    "    smallest and largest found.\n",
    "    Returns a sorted list of missing integers.\n",
    "    \"\"\"\n",
    "    numbers = []\n",
    "    for item in data:\n",
    "        id_str = item.get(\"id\", \"\")\n",
    "        m = re.search(r\"(\\d+)$\", id_str)\n",
    "        if m:\n",
    "            numbers.append(int(m.group(1)))\n",
    "\n",
    "    if not numbers:\n",
    "        return []\n",
    "\n",
    "    min_n, max_n = min(numbers), max(numbers)\n",
    "    full_range = set(range(min_n, max_n + 1))\n",
    "    missing = sorted(full_range - set(numbers))\n",
    "    return missing\n"
   ]
  },
  {
   "cell_type": "code",
   "execution_count": 19,
   "metadata": {},
   "outputs": [],
   "source": [
    "input_root  = 'inference_outputs/converted_outputs'\n",
    "output_root = 'inference_outputs/converted_outputs_trimmed'\n",
    "look_for_duplicates = True\n",
    "\n",
    "trim_counts = {\n",
    "    'covid_fact' : 1000,\n",
    "    'hover_train': 2000,\n",
    "    'politi_hop' : None,\n",
    "}"
   ]
  },
  {
   "cell_type": "code",
   "execution_count": 20,
   "metadata": {},
   "outputs": [
    {
     "name": "stdout",
     "output_type": "stream",
     "text": [
      "Duplicate IDs found in hover_train_mistral_7b_cot.json:\n",
      "  - hover_train_full_docs-000850\n",
      "Missing IDs found in hover_train_mistral_7b_no_cot.json:\n",
      "  - 1805\n",
      "  - 1806\n"
     ]
    }
   ],
   "source": [
    "for root, dirs, files in os.walk(input_root):\n",
    "    rel = os.path.relpath(root, input_root)\n",
    "    dst_dir = os.path.join(output_root, rel)\n",
    "    os.makedirs(dst_dir, exist_ok=True)\n",
    "\n",
    "    for fn in files:\n",
    "        src_path = os.path.join(root, fn)\n",
    "        dst_path = os.path.join(dst_dir, fn)\n",
    "\n",
    "        if fn.endswith('.json'):\n",
    "\n",
    "            if look_for_duplicates:\n",
    "                with open(src_path, 'r') as f:\n",
    "                    data = json.load(f)\n",
    "                duplicates = find_duplicates(data)\n",
    "                if duplicates:\n",
    "                    print(f\"Duplicate IDs found in {fn}:\")\n",
    "                    for id_ in duplicates:\n",
    "                        print(f\"  - {id_}\")\n",
    "\n",
    "                missing_ids = find_missing_ids(data)\n",
    "                if missing_ids:\n",
    "                    print(f\"Missing IDs found in {fn}:\")\n",
    "                    for id_ in missing_ids:\n",
    "                        print(f\"  - {id_}\")\n",
    "            else:\n",
    "                key = next((k for k in trim_counts if fn.startswith(k)), None)\n",
    "                N   = trim_counts.get(key)\n",
    "\n",
    "                if N is None:\n",
    "                    shutil.copy(src_path, dst_path)\n",
    "                else:\n",
    "                    with open(src_path, 'r') as f:\n",
    "                        data = json.load(f)\n",
    "                    trimmed = data[:N]\n",
    "                    with open(dst_path, 'w') as f:\n",
    "                        json.dump(trimmed, f, indent=2)\n",
    "\n",
    "        else:\n",
    "            shutil.copy(src_path, dst_path)"
   ]
  }
 ],
 "metadata": {
  "kernelspec": {
   "display_name": "nlp",
   "language": "python",
   "name": "python3"
  },
  "language_info": {
   "codemirror_mode": {
    "name": "ipython",
    "version": 3
   },
   "file_extension": ".py",
   "mimetype": "text/x-python",
   "name": "python",
   "nbconvert_exporter": "python",
   "pygments_lexer": "ipython3",
   "version": "3.10.12"
  }
 },
 "nbformat": 4,
 "nbformat_minor": 2
}
