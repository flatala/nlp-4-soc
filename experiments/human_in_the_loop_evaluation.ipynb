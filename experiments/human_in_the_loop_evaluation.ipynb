{
 "cells": [
  {
   "cell_type": "code",
   "execution_count": 1,
   "metadata": {},
   "outputs": [],
   "source": [
    "import os\n",
    "import json\n",
    "from time import time\n",
    "from faithfulness_eval_utils.human_in_the_loop_eval import evaluate_faithfulness_hil"
   ]
  },
  {
   "cell_type": "markdown",
   "metadata": {},
   "source": [
    "## Actual HITL Eval"
   ]
  },
  {
   "cell_type": "code",
   "execution_count": 3,
   "metadata": {},
   "outputs": [
    {
     "name": "stdout",
     "output_type": "stream",
     "text": [
      "deepseek_r1_32b_cot\n",
      "gpt4o_cot\n",
      "gpt4o_non_cot\n",
      "\n",
      "\n",
      "+++++++++++++++++++++++++++++++++++++++++++\n",
      "Processing model setup: gpt4o_non_cot\n",
      "Either covid_fact_gpt4o_non_cot.stats.json or covid_fact_gpt4o_non_cot.results.json already exists in output\\hitl\\gpt4o_non_cot. Skipping evaluation.\n",
      "Either hover_train_gpt4o_non_cot.stats.json or hover_train_gpt4o_non_cot.results.json already exists in output\\hitl\\gpt4o_non_cot. Skipping evaluation.\n",
      "Either politi_hop_gpt4o_non_cot.stats.json or politi_hop_gpt4o_non_cot.results.json already exists in output\\hitl\\gpt4o_non_cot. Skipping evaluation.\n",
      "mistral_7b_cot\n",
      "mistral_7b_non_cot\n"
     ]
    }
   ],
   "source": [
    "SAMPLE_COUNT = 25\n",
    "\n",
    "model_to_evaluate = [\"gpt4o_non_cot\"]\n",
    "# model_to_evaluate = ['mistral_7b_cot', 'mistral_7b_non_cot', 'gpt4o_cot', 'gpt4o_non_cot', 'deepseek_r1_32b_cot']\n",
    "\n",
    "data_path = os.path.normpath(\"../inference/converted_outputs/\")\n",
    "model_setup_dirs = os.listdir(data_path)\n",
    "\n",
    "ids_per_dataset: dict[str, list[str]] = {}  # k: dataset name, v: list of ids\n",
    "\n",
    "t1 = time()\n",
    "\n",
    "for model_setup_dir in model_setup_dirs:\n",
    "    if not os.path.isdir(os.path.join(data_path, model_setup_dir)):\n",
    "        continue\n",
    "\n",
    "    print(model_setup_dir)\n",
    "    if model_setup_dir not in model_to_evaluate:\n",
    "        continue\n",
    "\n",
    "    print(\"\\n\\n+++++++++++++++++++++++++++++++++++++++++++\")\n",
    "    print(f\"Processing model setup: {model_setup_dir}\")\n",
    "\n",
    "    dataset_files = os.listdir(os.path.join(data_path, model_setup_dir))\n",
    "    if not dataset_files:\n",
    "        print(f\"No files found in {model_setup_dir}...\")\n",
    "        raise ValueError()\n",
    "\n",
    "    for dataset_file in dataset_files:\n",
    "        if not dataset_file.endswith(\".json\"):\n",
    "            continue\n",
    "\n",
    "        t2 = time()\n",
    "        dataset_path = os.path.join(data_path, model_setup_dir, dataset_file)\n",
    "        result_dir = os.path.join(\"output\", \"hitl\", model_setup_dir)\n",
    "        stats_output_filename = f\"{dataset_file.replace('.json', '.stats.json')}\"\n",
    "        results_output_filename = f\"{dataset_file.replace('.json', '.results.json')}\"\n",
    "\n",
    "        if os.path.exists(\n",
    "            os.path.join(result_dir, stats_output_filename)\n",
    "        ) or os.path.exists(os.path.join(result_dir, results_output_filename)):\n",
    "            print(\n",
    "                f\"Either {stats_output_filename} or {results_output_filename} already exists in {result_dir}. Skipping evaluation.\"\n",
    "            )\n",
    "            continue\n",
    "\n",
    "        dataset_identifier = dataset_file.split(\"_\")[0]\n",
    "        pre_sampled_ids = (\n",
    "            None  # worst-case initialization, no sampling for this dataset\n",
    "        )\n",
    "\n",
    "        if dataset_identifier in ids_per_dataset:\n",
    "            pre_sampled_ids = ids_per_dataset[dataset_identifier]\n",
    "\n",
    "        # pre_sampled_ids =\n",
    "        print(\n",
    "            f\"\\nEvaluating {dataset_path} ({dataset_identifier=}) with pre-sampled IDs: {pre_sampled_ids}...\"\n",
    "        )\n",
    "\n",
    "        with open(dataset_path, encoding=\"utf-8\") as fin:\n",
    "            data = json.load(fin)\n",
    "\n",
    "        used_ids: list[str] = evaluate_faithfulness_hil(\n",
    "            data=data,\n",
    "            pre_sampled_ids=pre_sampled_ids,\n",
    "            sample_count=SAMPLE_COUNT,\n",
    "            result_dir=result_dir,\n",
    "            stats_filename=stats_output_filename,\n",
    "            results_filename=results_output_filename,\n",
    "        )\n",
    "\n",
    "        if dataset_identifier not in ids_per_dataset:\n",
    "            ids_per_dataset[dataset_identifier] = used_ids\n",
    "        t3 = time()\n",
    "        print(\n",
    "            f\"Finished evaluating {dataset_path}. Time elapsed since start: {(t3 - t1) / 60:.2f} minutes, since last file: {(t3 - t2) / 60:.2f} minutes.\"\n",
    "        )\n"
   ]
  }
 ],
 "metadata": {
  "kernelspec": {
   "display_name": ".venv",
   "language": "python",
   "name": "python3"
  },
  "language_info": {
   "codemirror_mode": {
    "name": "ipython",
    "version": 3
   },
   "file_extension": ".py",
   "mimetype": "text/x-python",
   "name": "python",
   "nbconvert_exporter": "python",
   "pygments_lexer": "ipython3",
   "version": "3.11.10"
  }
 },
 "nbformat": 4,
 "nbformat_minor": 2
}
