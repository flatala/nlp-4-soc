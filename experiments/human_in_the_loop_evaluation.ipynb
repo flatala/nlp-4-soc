{
 "cells": [
  {
   "cell_type": "code",
   "execution_count": 1,
   "metadata": {},
   "outputs": [],
   "source": [
    "import os\n",
    "import json\n",
    "from time import time\n",
    "from faithfulness_eval_utils.human_in_the_loop_eval import evaluate_faithfulness_hil"
   ]
  },
  {
   "cell_type": "markdown",
   "metadata": {},
   "source": [
    "## Actual HITL Eval"
   ]
  },
  {
   "cell_type": "code",
   "execution_count": 2,
   "metadata": {},
   "outputs": [
    {
     "name": "stdout",
     "output_type": "stream",
     "text": [
      "deepseek_r1_32b_cot\n",
      "gpt4o_cot\n",
      "gpt4o_non_cot\n",
      "\n",
      "\n",
      "+++++++++++++++++++++++++++++++++++++++++++\n",
      "Processing model setup: gpt4o_non_cot\n",
      "\n",
      "Evaluating ..\\inference_outputs\\converted_outputs\\gpt4o_non_cot\\covid_fact_gpt4o_non_cot.json (dataset_identifier='covid') with pre-sampled IDs: None...\n",
      "Sampled the following 25 samples: ids=['covid_fact-000655', 'covid_fact-000115', 'covid_fact-000026', 'covid_fact-000760', 'covid_fact-000282', 'covid_fact-000251', 'covid_fact-000229', 'covid_fact-000143', 'covid_fact-000755', 'covid_fact-000105', 'covid_fact-000693', 'covid_fact-000759', 'covid_fact-000914', 'covid_fact-000559', 'covid_fact-000090', 'covid_fact-000605', 'covid_fact-000433', 'covid_fact-000033', 'covid_fact-000031', 'covid_fact-000096', 'covid_fact-000224', 'covid_fact-000239', 'covid_fact-000518', 'covid_fact-000617', 'covid_fact-000028'], from len(data)=1000 items.\n",
      "Finished evaluating ..\\inference_outputs\\converted_outputs\\gpt4o_non_cot\\covid_fact_gpt4o_non_cot.json. Time elapsed since start: 60.43 minutes, since last file: 60.43 minutes.\n",
      "\n",
      "Evaluating ..\\inference_outputs\\converted_outputs\\gpt4o_non_cot\\hover_train_gpt4o_non_cot.json (dataset_identifier='hover') with pre-sampled IDs: None...\n",
      "Sampled the following 25 samples: ids=['hover_train_full_docs-001310', 'hover_train_full_docs-000229', 'hover_train_full_docs-000052', 'hover_train_full_docs-001519', 'hover_train_full_docs-000564', 'hover_train_full_docs-000502', 'hover_train_full_docs-000458', 'hover_train_full_docs-000286', 'hover_train_full_docs-001509', 'hover_train_full_docs-000210', 'hover_train_full_docs-001386', 'hover_train_full_docs-001517', 'hover_train_full_docs-001828', 'hover_train_full_docs-001117', 'hover_train_full_docs-000179', 'hover_train_full_docs-001210', 'hover_train_full_docs-000865', 'hover_train_full_docs-000066', 'hover_train_full_docs-000062', 'hover_train_full_docs-000192', 'hover_train_full_docs-000448', 'hover_train_full_docs-000477', 'hover_train_full_docs-001035', 'hover_train_full_docs-001233', 'hover_train_full_docs-000055'], from len(data)=2000 items.\n",
      "Finished evaluating ..\\inference_outputs\\converted_outputs\\gpt4o_non_cot\\hover_train_gpt4o_non_cot.json. Time elapsed since start: 77.31 minutes, since last file: 16.88 minutes.\n",
      "\n",
      "Evaluating ..\\inference_outputs\\converted_outputs\\gpt4o_non_cot\\politi_hop_gpt4o_non_cot.json (dataset_identifier='politi') with pre-sampled IDs: None...\n",
      "Sampled the following 25 samples: ids=['politihop_combined_and_grouped-000328', 'politihop_combined_and_grouped-000058', 'politihop_combined_and_grouped-000013', 'politihop_combined_and_grouped-000380', 'politihop_combined_and_grouped-000141', 'politihop_combined_and_grouped-000126', 'politihop_combined_and_grouped-000115', 'politihop_combined_and_grouped-000072', 'politihop_combined_and_grouped-000378', 'politihop_combined_and_grouped-000053', 'politihop_combined_and_grouped-000347', 'politihop_combined_and_grouped-000457', 'politihop_combined_and_grouped-000280', 'politihop_combined_and_grouped-000045', 'politihop_combined_and_grouped-000303', 'politihop_combined_and_grouped-000217', 'politihop_combined_and_grouped-000017', 'politihop_combined_and_grouped-000016', 'politihop_combined_and_grouped-000048', 'politihop_combined_and_grouped-000112', 'politihop_combined_and_grouped-000120', 'politihop_combined_and_grouped-000259', 'politihop_combined_and_grouped-000309', 'politihop_combined_and_grouped-000014', 'politihop_combined_and_grouped-000288'], from len(data)=497 items.\n",
      "Finished evaluating ..\\inference_outputs\\converted_outputs\\gpt4o_non_cot\\politi_hop_gpt4o_non_cot.json. Time elapsed since start: 81.83 minutes, since last file: 4.52 minutes.\n",
      "mistral_7b_cot\n",
      "mistral_7b_non_cot\n"
     ]
    }
   ],
   "source": [
    "SAMPLE_COUNT = 25\n",
    "\n",
    "model_to_evaluate = [\"gpt4o_non_cot\"]\n",
    "# model_to_evaluate = ['mistral_7b_cot', 'mistral_7b_non_cot', 'gpt4o_cot', 'gpt4o_non_cot', 'deepseek_r1_32b_cot']\n",
    "\n",
    "data_path = os.path.normpath(\"../inference_outputs/converted_outputs/\")\n",
    "model_setup_dirs = os.listdir(data_path)\n",
    "\n",
    "ids_per_dataset: dict[str, list[str]] = {}  # k: dataset name, v: list of ids\n",
    "\n",
    "t1 = time()\n",
    "\n",
    "for model_setup_dir in model_setup_dirs:\n",
    "    if not os.path.isdir(os.path.join(data_path, model_setup_dir)):\n",
    "        continue\n",
    "\n",
    "    print(model_setup_dir)\n",
    "    if model_setup_dir not in model_to_evaluate:\n",
    "        continue\n",
    "\n",
    "    print(\"\\n\\n+++++++++++++++++++++++++++++++++++++++++++\")\n",
    "    print(f\"Processing model setup: {model_setup_dir}\")\n",
    "\n",
    "    dataset_files = os.listdir(os.path.join(data_path, model_setup_dir))\n",
    "    if not dataset_files:\n",
    "        print(f\"No files found in {model_setup_dir}...\")\n",
    "        raise ValueError()\n",
    "\n",
    "    for dataset_file in dataset_files:\n",
    "        if not dataset_file.endswith(\".json\"):\n",
    "            continue\n",
    "\n",
    "        t2 = time()\n",
    "        dataset_path = os.path.join(data_path, model_setup_dir, dataset_file)\n",
    "        result_dir = os.path.join(\"output\", \"hitl\", model_setup_dir)\n",
    "        stats_output_filename = f\"{dataset_file.replace('.json', '.stats.json')}\"\n",
    "        results_output_filename = f\"{dataset_file.replace('.json', '.results.json')}\"\n",
    "\n",
    "        if os.path.exists(\n",
    "            os.path.join(result_dir, stats_output_filename)\n",
    "        ) or os.path.exists(os.path.join(result_dir, results_output_filename)):\n",
    "            print(\n",
    "                f\"Either {stats_output_filename} or {results_output_filename} already exists in {result_dir}. Skipping evaluation.\"\n",
    "            )\n",
    "            continue\n",
    "\n",
    "        dataset_identifier = dataset_file.split(\"_\")[0]\n",
    "        pre_sampled_ids = (\n",
    "            None  # worst-case initialization, no sampling for this dataset\n",
    "        )\n",
    "\n",
    "        if dataset_identifier in ids_per_dataset:\n",
    "            pre_sampled_ids = ids_per_dataset[dataset_identifier]\n",
    "\n",
    "        # pre_sampled_ids =\n",
    "        print(\n",
    "            f\"\\nEvaluating {dataset_path} ({dataset_identifier=}) with pre-sampled IDs: {pre_sampled_ids}...\"\n",
    "        )\n",
    "\n",
    "        with open(dataset_path, encoding=\"utf-8\") as fin:\n",
    "            data = json.load(fin)\n",
    "\n",
    "        used_ids: list[str] = evaluate_faithfulness_hil(\n",
    "            data=data,\n",
    "            pre_sampled_ids=pre_sampled_ids,\n",
    "            sample_count=SAMPLE_COUNT,\n",
    "            result_dir=result_dir,\n",
    "            stats_filename=stats_output_filename,\n",
    "            results_filename=results_output_filename,\n",
    "        )\n",
    "\n",
    "        if dataset_identifier not in ids_per_dataset:\n",
    "            ids_per_dataset[dataset_identifier] = used_ids\n",
    "        t3 = time()\n",
    "        print(\n",
    "            f\"Finished evaluating {dataset_path}. Time elapsed since start: {(t3 - t1) / 60:.2f} minutes, since last file: {(t3 - t2) / 60:.2f} minutes.\"\n",
    "        )\n"
   ]
  }
 ],
 "metadata": {
  "kernelspec": {
   "display_name": "nlp",
   "language": "python",
   "name": "python3"
  },
  "language_info": {
   "codemirror_mode": {
    "name": "ipython",
    "version": 3
   },
   "file_extension": ".py",
   "mimetype": "text/x-python",
   "name": "python",
   "nbconvert_exporter": "python",
   "pygments_lexer": "ipython3",
   "version": "3.10.12"
  }
 },
 "nbformat": 4,
 "nbformat_minor": 2
}
