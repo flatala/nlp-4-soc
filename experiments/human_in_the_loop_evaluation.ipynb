{
 "cells": [
  {
   "cell_type": "code",
   "execution_count": null,
   "metadata": {},
   "outputs": [],
   "source": [
    "from faithfulness_eval_utils.human_in_the_loop_eval import evaluate_faithfulness_hil\n",
    "import json\n",
    "\n",
    "with open(\"../sample_complex.json\", \"r\", encoding=\"utf-8\") as f:\n",
    "    dataset = json.load(f)\n",
    "\n",
    "\n",
    "evaluate_faithfulness_hil(dataset, sample_count=50, result_dir=\"human_eval\")"
   ]
  }
 ],
 "metadata": {
  "kernelspec": {
   "display_name": "nlp",
   "language": "python",
   "name": "python3"
  },
  "language_info": {
   "name": "python",
   "version": "3.10.12"
  }
 },
 "nbformat": 4,
 "nbformat_minor": 2
}
