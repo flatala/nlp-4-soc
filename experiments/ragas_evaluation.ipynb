{
 "cells": [
  {
   "cell_type": "code",
   "execution_count": 1,
   "id": "f4356b38",
   "metadata": {},
   "outputs": [],
   "source": [
    "import json\n",
    "import os\n",
    "from time import time\n",
    "from faithfulness_eval_utils.ragas_eval import evaluate_ragas"
   ]
  },
  {
   "cell_type": "code",
   "execution_count": null,
   "id": "c30e2062",
   "metadata": {},
   "outputs": [],
   "source": [
    "EVALUATOR_MODEL = \"llama3:8b\"\n",
    "\n",
    "MODEL = \"gpt4o_non_cot\"\n",
    "# MODEL CHOICES ['mistral_7b_cot', 'mistral_7b_non_cot', 'gpt4o_cot', 'gpt4o_non_cot', 'deepseek_r1_32b_cot']\n",
    "\n",
    "\n",
    "t1 = time()\n",
    "directory_path = f\"../inference/converted_outputs/{MODEL}/\"\n",
    "all_files = os.listdir(directory_path)\n",
    "json_files = [f for f in all_files if f.endswith(\".json\")]\n",
    "\n",
    "for filename in json_files:\n",
    "    file_path = os.path.join(directory_path, filename)\n",
    "    print(f\"Processing file: {file_path}...\")\n",
    "    with open(file_path, \"r\") as fin:\n",
    "        data = json.load(fin)\n",
    "        t2 = time()\n",
    "        stats_output_filename = f\"{filename.replace('.json', '.stats.json')}\"\n",
    "        results_output_filename = f\"{filename.replace('.json', '.results.json')}\"\n",
    "\n",
    "        await evaluate_ragas(\n",
    "            data,\n",
    "            evaluator_model=EVALUATOR_MODEL,\n",
    "            results_filename=results_output_filename,\n",
    "            stats_filename=stats_output_filename,\n",
    "            result_dir=f\"output/ragas/{MODEL}\",\n",
    "        )\n",
    "        t3 = time()\n",
    "        print(\n",
    "            f\"Processed {filename} in {(t3 - t2)/60:.2f} minutes. Total elapsed time: {(t3 - t1)/60:.2f} minutes.\"\n",
    "        )"
   ]
  }
 ],
 "metadata": {
  "kernelspec": {
   "display_name": ".venv",
   "language": "python",
   "name": "python3"
  },
  "language_info": {
   "codemirror_mode": {
    "name": "ipython",
    "version": 3
   },
   "file_extension": ".py",
   "mimetype": "text/x-python",
   "name": "python",
   "nbconvert_exporter": "python",
   "pygments_lexer": "ipython3",
   "version": "3.11.10"
  }
 },
 "nbformat": 4,
 "nbformat_minor": 5
}
