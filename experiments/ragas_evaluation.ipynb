{
 "cells": [
  {
   "cell_type": "code",
   "execution_count": 1,
   "id": "f4356b38",
   "metadata": {},
   "outputs": [],
   "source": [
    "import json\n",
    "import os\n",
    "from faithfulness_eval_utils.ragas_eval import evaluate_ragas"
   ]
  },
  {
   "cell_type": "code",
   "execution_count": null,
   "id": "c30e2062",
   "metadata": {},
   "outputs": [],
   "source": [
    "MODEL = \"deepseek_r1_32b_cot\"\n",
    "EVALUATOR_MODEL = \"llama3:8b\"\n",
    "\n",
    "directory_path = f\"../inference/converted_outputs/{MODEL}/\"\n",
    "all_files = os.listdir(directory_path)\n",
    "json_files = [f for f in all_files if f.endswith('.json')]\n",
    "for filename in json_files:\n",
    "    file_path = os.path.join(directory_path, filename)\n",
    "    with open(file_path, 'r') as fin:\n",
    "        data = json.load(fin)\n",
    "\n",
    "        stats_output_filename = f\"{filename.replace('.json', '.stats.json')}\"\n",
    "        results_output_filename = f\"{filename.replace('.json', '.results.json')}\"\n",
    "\n",
    "        await evaluate_ragas(\n",
    "            data,\n",
    "            evaluator_model=EVALUATOR_MODEL,\n",
    "            results_filename=results_output_filename,\n",
    "            stats_filename=stats_output_filename,\n",
    "            result_dir=f\"output/ragas/{MODEL}\",\n",
    "        )"
   ]
  }
 ],
 "metadata": {
  "kernelspec": {
   "display_name": "nlp",
   "language": "python",
   "name": "python3"
  },
  "language_info": {
   "codemirror_mode": {
    "name": "ipython",
    "version": 3
   },
   "file_extension": ".py",
   "mimetype": "text/x-python",
   "name": "python",
   "nbconvert_exporter": "python",
   "pygments_lexer": "ipython3",
   "version": "3.10.12"
  }
 },
 "nbformat": 4,
 "nbformat_minor": 5
}
