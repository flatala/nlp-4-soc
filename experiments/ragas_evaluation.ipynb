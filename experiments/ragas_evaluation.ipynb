{
 "cells": [
  {
   "cell_type": "code",
   "execution_count": null,
   "id": "f4356b38",
   "metadata": {},
   "outputs": [],
   "source": [
    "import json\n",
    "from faithfulness_eval_utils.ragas_eval import evaluate_ragas"
   ]
  },
  {
   "cell_type": "code",
   "execution_count": null,
   "id": "c30e2062",
   "metadata": {},
   "outputs": [],
   "source": [
    "with open(\"../sample_complex.json\") as fin:\n",
    "    data = json.load(fin)\n",
    "\n",
    "evaluate_ragas(\n",
    "    data,\n",
    "    result_dir=\"output/ragas\",\n",
    ")"
   ]
  }
 ],
 "metadata": {
  "language_info": {
   "name": "python"
  }
 },
 "nbformat": 4,
 "nbformat_minor": 5
}
