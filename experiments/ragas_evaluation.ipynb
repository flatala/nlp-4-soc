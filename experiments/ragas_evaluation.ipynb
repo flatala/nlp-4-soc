{
 "cells": [
  {
   "cell_type": "code",
   "execution_count": 1,
   "id": "f4356b38",
   "metadata": {},
   "outputs": [],
   "source": [
    "import json\n",
    "from faithfulness_eval_utils.ragas_eval import evaluate_ragas"
   ]
  },
  {
   "cell_type": "code",
   "execution_count": null,
   "id": "c30e2062",
   "metadata": {},
   "outputs": [],
   "source": [
    "with open(\"../inference/converted_outputs/deepseek_r1_32b_cot/covid_fact_depseek_r1_cot.json\") as fin:\n",
    "    data = json.load(fin)\n",
    "\n",
    "await evaluate_ragas(\n",
    "    data,\n",
    "    result_dir=\"output/ragas\",\n",
    ")"
   ]
  }
 ],
 "metadata": {
  "kernelspec": {
   "display_name": "nlp",
   "language": "python",
   "name": "python3"
  },
  "language_info": {
   "codemirror_mode": {
    "name": "ipython",
    "version": 3
   },
   "file_extension": ".py",
   "mimetype": "text/x-python",
   "name": "python",
   "nbconvert_exporter": "python",
   "pygments_lexer": "ipython3",
   "version": "3.10.12"
  }
 },
 "nbformat": 4,
 "nbformat_minor": 5
}
