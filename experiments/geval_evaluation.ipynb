{
 "cells": [
  {
   "cell_type": "code",
   "execution_count": 2,
   "id": "e6309f34",
   "metadata": {},
   "outputs": [],
   "source": [
    "import json\n",
    "import asyncio\n",
    "from faithfulness_eval_utils.geval import evaluate_geval"
   ]
  },
  {
   "cell_type": "code",
   "execution_count": 3,
   "id": "7da71211",
   "metadata": {},
   "outputs": [
    {
     "name": "stdout",
     "output_type": "stream",
     "text": [
      "Saved 5 items to `output/geval/results.json`\n",
      "Averages written to `output/geval/stats.json`\n"
     ]
    },
    {
     "data": {
      "text/plain": [
       "([{'statement': \"Shakespeare wrote 'Romeo and Juliet'.\",\n",
       "   'explanation': \"Historical records and publication attributions confirm that Shakespeare wrote 'Romeo and Juliet'.\",\n",
       "   'evidences': [\"William Shakespeare is credited as the author of the play 'Romeo and Juliet'.\",\n",
       "    \"'Romeo and Juliet' was first published in 1597 and is attributed to Shakespeare.\"],\n",
       "   'label': 'SUPPORTED',\n",
       "   'q1_factual_claims_not_in_evidence': '**No**, the explanation does not make any factual claims not found in the evidence.',\n",
       "   'q2_reflects_key_points': \"**Yes**, the explanation faithfully reflects the key points in the evidence, which confirm that Shakespeare wrote 'Romeo and Juliet' based on historical records and publication attributions.\",\n",
       "   'faithfulness_score_0_5': 5.0,\n",
       "   'justification': '',\n",
       "   'raw_response': 'Here are my evaluations:\\n\\n1. **No**, the explanation does not make any factual claims not found in the evidence.\\n\\n2. **Yes**, the explanation faithfully reflects the key points in the evidence, which confirm that Shakespeare wrote \\'Romeo and Juliet\\' based on historical records and publication attributions.\\n\\n3. Faithfulness Score: **5/5**\\n\\nJustification: The explanation only uses information present in the evidence, specifically citing \"historical records\" and \"publication attributions\", which are both mentioned in the supporting evidence. There is no addition of unsupported claims or hallucinations, making it a faithful reflection of the evidence and claim.'},\n",
       "  {'statement': 'Eating carrots improves eyesight.',\n",
       "   'explanation': 'While carrots provide vitamin A, there is no evidence they improve eyesight beyond maintaining normal vision.',\n",
       "   'evidences': ['Carrots contain beta-carotene, which the body converts to vitamin A, a nutrient important for vision.',\n",
       "    'No clinical evidence shows that eating carrots prevents or cures vision problems beyond normal health benefits.'],\n",
       "   'label': 'NOT_SUPPORTED',\n",
       "   'q1_factual_claims_not_in_evidence': '**No**: The explanation only summarizes the key points from the evidence, without making any additional claims not found in the evidence.',\n",
       "   'q2_reflects_key_points': '**Yes**: The explanation accurately reflects the main points from the evidence, including the role of beta-carotene and vitamin A in vision health, as well as the lack of clinical evidence supporting improved eyesight.',\n",
       "   'faithfulness_score_0_5': 5.0,\n",
       "   'justification': 'Justification: The explanation is faithful because it only uses information present in the evidence, without adding any unsupported claims or hallucinations. It accurately summarizes the key points from the evidence and does not introduce new information that is not supported by the data.',\n",
       "   'raw_response': 'Here are my evaluations:\\n\\n1. **No**: The explanation only summarizes the key points from the evidence, without making any additional claims not found in the evidence.\\n2. **Yes**: The explanation accurately reflects the main points from the evidence, including the role of beta-carotene and vitamin A in vision health, as well as the lack of clinical evidence supporting improved eyesight.\\n3. Faithfulness Score: **5/5**\\n4. Justification: The explanation is faithful because it only uses information present in the evidence, without adding any unsupported claims or hallucinations. It accurately summarizes the key points from the evidence and does not introduce new information that is not supported by the data.'},\n",
       "  {'statement': 'Mount Everest is over 8,000 meters tall.',\n",
       "   'explanation': \"Multiple measurements, historical and modern, consistently report Everest's height above 8,000 meters.\",\n",
       "   'evidences': [\"Mount Everest's height was first measured in 1856 as 8,840 meters.\",\n",
       "    \"Recent GPS surveys have confirmed Everest's elevation at approximately 8,848.86 meters above sea level.\",\n",
       "    'Everest is the tallest mountain on Earth by elevation above sea level.'],\n",
       "   'label': 'SUPPORTED',\n",
       "   'q1_factual_claims_not_in_evidence': '**No**, the explanation does not make any factual claims not found in the evidence.',\n",
       "   'q2_reflects_key_points': \"**Yes**, the explanation faithfully reflects the key points in the evidence, specifically mentioning multiple measurements and reporting Everest's height above 8,000 meters, which is supported by the provided data.\",\n",
       "   'faithfulness_score_0_5': 5.0,\n",
       "   'justification': '',\n",
       "   'raw_response': \"Here are my evaluations:\\n\\n1. **No**, the explanation does not make any factual claims not found in the evidence.\\n\\n2. **Yes**, the explanation faithfully reflects the key points in the evidence, specifically mentioning multiple measurements and reporting Everest's height above 8,000 meters, which is supported by the provided data.\\n\\n3. **Faithfulness Score: 5/5**\\n\\nJustification: The explanation only uses information present in the evidence, accurately summarizing the historical measurement of Mount Everest's height and the recent GPS surveys that confirmed its elevation. It does not add any unsupported claims or hallucinations, making it a faithful representation of the evidence and claim.\"},\n",
       "  {'statement': 'Honey never spoils.',\n",
       "   'explanation': 'Due to its chemical properties, honey resists spoilage and archaeological examples show it remains edible for millennia.',\n",
       "   'evidences': ['Archaeologists have found pots of honey in ancient Egyptian tombs over 3,000 years old that were still edible.',\n",
       "    \"Honey's low moisture and high acidity inhibit bacterial growth, allowing it to remain unspoiled.\"],\n",
       "   'label': 'SUPPORTED',\n",
       "   'q1_factual_claims_not_in_evidence': '**No**, the explanation does not make any factual claims not found in the evidence.',\n",
       "   'q2_reflects_key_points': \"**Yes**, the explanation faithfully reflects the key points in the evidence, specifically highlighting honey's chemical properties and its resistance to spoilage, which is supported by both archaeological examples and scientific explanations (low moisture and high acidity).\",\n",
       "   'faithfulness_score_0_5': 5.0,\n",
       "   'justification': '',\n",
       "   'raw_response': \"Here are my evaluations:\\n\\n1. **No**, the explanation does not make any factual claims not found in the evidence.\\n\\n2. **Yes**, the explanation faithfully reflects the key points in the evidence, specifically highlighting honey's chemical properties and its resistance to spoilage, which is supported by both archaeological examples and scientific explanations (low moisture and high acidity).\\n\\n3. Faithfulness Score: **5/5**\\n\\nJustification: The explanation only uses information present in the evidence, accurately summarizing the supporting points without adding any unsupported claims or hallucinations. It provides a clear and concise summary of the key findings, making it a faithful representation of the evidence and claim.\"},\n",
       "  {'statement': 'Honey never spoils.',\n",
       "   'explanation': 'Honey spoils after a week.',\n",
       "   'evidences': ['Archaeologists have found pots of honey in ancient Egyptian tombs over 3,000 years old that were still edible.',\n",
       "    \"Honey's low moisture and high acidity inhibit bacterial growth, allowing it to remain unspoiled.\"],\n",
       "   'label': 'NOT_SUPPORTED',\n",
       "   'q1_factual_claims_not_in_evidence': '**Yes**, the explanation makes a factual claim (\"Honey spoils after a week.\") that is not found in the evidence.',\n",
       "   'q2_reflects_key_points': '**No**, the explanation does not faithfully reflect the key points in the evidence, which suggest that honey can remain unspoiled for a long time due to its low moisture and high acidity.',\n",
       "   'faithfulness_score_0_5': 0.0,\n",
       "   'justification': '',\n",
       "   'raw_response': 'Here are my evaluations:\\n\\n1. **Yes**, the explanation makes a factual claim (\"Honey spoils after a week.\") that is not found in the evidence.\\n2. **No**, the explanation does not faithfully reflect the key points in the evidence, which suggest that honey can remain unspoiled for a long time due to its low moisture and high acidity.\\n3. Faithfulness Score: **0/5**. The explanation directly contradicts the evidence and makes an unsupported claim about honey spoiling after a week.\\n\\nJustification: The explanation does not align with the evidence, which suggests that honey can remain unspoiled for thousands of years due to its natural properties. Instead, it presents an opposite claim that is not supported by the provided evidence.'}],\n",
       " {'avg_geval_score_0_5': 4.0})"
      ]
     },
     "execution_count": 3,
     "metadata": {},
     "output_type": "execute_result"
    }
   ],
   "source": [
    "with open(\"../sample_complex.json\") as fin:\n",
    "    data = json.load(fin)\n",
    "\n",
    "await evaluate_geval(\n",
    "    data,\n",
    "    result_dir=\"output/geval\",\n",
    ")"
   ]
  }
 ],
 "metadata": {
  "kernelspec": {
   "display_name": "nlp",
   "language": "python",
   "name": "python3"
  },
  "language_info": {
   "codemirror_mode": {
    "name": "ipython",
    "version": 3
   },
   "file_extension": ".py",
   "mimetype": "text/x-python",
   "name": "python",
   "nbconvert_exporter": "python",
   "pygments_lexer": "ipython3",
   "version": "3.10.12"
  }
 },
 "nbformat": 4,
 "nbformat_minor": 5
}
