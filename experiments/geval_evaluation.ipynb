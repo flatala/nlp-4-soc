{
 "cells": [
  {
   "cell_type": "code",
   "execution_count": null,
   "id": "e6309f34",
   "metadata": {},
   "outputs": [],
   "source": [
    "import json\n",
    "from faithfulness_eval_utils.geval import evaluate_geval"
   ]
  },
  {
   "cell_type": "code",
   "execution_count": null,
   "id": "7da71211",
   "metadata": {},
   "outputs": [],
   "source": [
    "with open(\"../sample_complex.json\") as fin:\n",
    "    data = json.load(fin)\n",
    "\n",
    "evaluate_geval(\n",
    "    data,\n",
    "    result_dir=\"output/geval\",\n",
    ")"
   ]
  }
 ],
 "metadata": {
  "kernelspec": {
   "display_name": ".venv",
   "language": "python",
   "name": "python3"
  },
  "language_info": {
   "name": "python",
   "version": "3.11.0"
  }
 },
 "nbformat": 4,
 "nbformat_minor": 5
}
