{
 "cells": [
  {
   "cell_type": "code",
   "execution_count": null,
   "id": "e6309f34",
   "metadata": {},
   "outputs": [],
   "source": [
    "import json\n",
    "import asyncio\n",
    "from faithfulness_eval_utils.geval import evaluate_geval"
   ]
  },
  {
   "cell_type": "code",
   "execution_count": null,
   "id": "7da71211",
   "metadata": {},
   "outputs": [],
   "source": [
    "with open(\"../sample_complex.json\") as fin:\n",
    "    data = json.load(fin)\n",
    "\n",
    "await evaluate_geval(\n",
    "    data,\n",
    "    result_dir=\"output/geval\",\n",
    ")"
   ]
  }
 ],
 "metadata": {
  "kernelspec": {
   "display_name": ".venv",
   "language": "python",
   "name": "python3"
  },
  "language_info": {
   "codemirror_mode": {
    "name": "ipython",
    "version": 3
   },
   "file_extension": ".py",
   "mimetype": "text/x-python",
   "name": "python",
   "nbconvert_exporter": "python",
   "pygments_lexer": "ipython3",
   "version": "3.11.0"
  }
 },
 "nbformat": 4,
 "nbformat_minor": 5
}
