{
 "cells": [
  {
   "cell_type": "code",
   "execution_count": 1,
   "metadata": {},
   "outputs": [],
   "source": [
    "import os\n",
    "import json"
   ]
  },
  {
   "cell_type": "code",
   "execution_count": 2,
   "metadata": {},
   "outputs": [],
   "source": [
    "ENTAIL_DIR      = 'experiments/output/entailment'\n",
    "ORIG_GEval_DIR  = 'experiments/output/geval'\n",
    "NEW_GEval_DIR   = 'experiments/output/geval_updated'"
   ]
  },
  {
   "cell_type": "code",
   "execution_count": 3,
   "metadata": {},
   "outputs": [
    {
     "name": "stdout",
     "output_type": "stream",
     "text": [
      "✅  Wrote experiments/output/geval_updated/mistral_7b_cot/politi_hop_mistral_7b_cot.results.json\n",
      "✅  Wrote experiments/output/geval_updated/mistral_7b_cot/hover_train_mistral_7b_cot.results.json\n",
      "✅  Wrote experiments/output/geval_updated/mistral_7b_cot/covid_fact_mistral_7b_cot.results.json\n",
      "✅  Wrote experiments/output/geval_updated/mistral_7b_non_cot/hover_train_mistral_7b_no_cot.results.json\n",
      "✅  Wrote experiments/output/geval_updated/mistral_7b_non_cot/covid_fact_mistral_7b_no_cot.results.json\n",
      "✅  Wrote experiments/output/geval_updated/mistral_7b_non_cot/politi_hop_mistral_7b_no_cot.results.json\n",
      "✅  Wrote experiments/output/geval_updated/gpt4o_cot/covid_fact_gpt4o_cot.results.json\n",
      "✅  Wrote experiments/output/geval_updated/gpt4o_cot/hover_train_gpt4o_cot.results.json\n",
      "✅  Wrote experiments/output/geval_updated/gpt4o_cot/politi_hop_gpt4o_cot.results.json\n",
      "✅  Wrote experiments/output/geval_updated/deepseek_r1_32b_cot/covid_fact_depseek_r1_cot.results.json\n",
      "✅  Wrote experiments/output/geval_updated/deepseek_r1_32b_cot/hover_train_depseek-r1-cot.results.json\n",
      "✅  Wrote experiments/output/geval_updated/deepseek_r1_32b_cot/politi_hop_depseek_r1_cot.results.json\n",
      "✅  Wrote experiments/output/geval_updated/gpt4o_non_cot/covid_fact_gpt4o_non_cot.results.json\n",
      "✅  Wrote experiments/output/geval_updated/gpt4o_non_cot/politi_hop_gpt4o_non_cot.results.json\n",
      "✅  Wrote experiments/output/geval_updated/gpt4o_non_cot/hover_train_gpt4o_non_cot.results.json\n"
     ]
    }
   ],
   "source": [
    "\n",
    "for root, _, files in os.walk(ENTAIL_DIR):\n",
    "    for name in files:\n",
    "        if not name.endswith('.results.json'):\n",
    "            continue\n",
    "\n",
    "        # paths\n",
    "        entail_path = os.path.join(root, name)\n",
    "        rel         = os.path.relpath(entail_path, ENTAIL_DIR)\n",
    "        orig_path   = os.path.join(ORIG_GEval_DIR, rel)\n",
    "        new_path    = os.path.join(NEW_GEval_DIR, rel)\n",
    "\n",
    "        if not os.path.isfile(orig_path):\n",
    "            print(f\"⚠️  Missing g-eval file for {rel}\")\n",
    "            continue\n",
    "\n",
    "        # load\n",
    "        entail = json.load(open(entail_path))\n",
    "        geval  = json.load(open(orig_path))\n",
    "\n",
    "        # sanity check\n",
    "        if len(entail) != len(geval):\n",
    "            print(f\"⚠️  Length mismatch in {rel}\")\n",
    "            continue\n",
    "\n",
    "        for i, (e_e, e_g) in enumerate(zip(entail, geval)):\n",
    "            if e_e['statement'] != e_g.get('statement'):\n",
    "                raise ValueError(f\"Statement mismatch at index {i} in {rel}\")\n",
    "            e_g['id'] = e_e['id']\n",
    "\n",
    "        # ensure target dir exists\n",
    "        os.makedirs(os.path.dirname(new_path), exist_ok=True)\n",
    "        # write updated file\n",
    "        with open(new_path, 'w') as f:\n",
    "            json.dump(geval, f, indent=2)\n",
    "\n",
    "        print(f\"✅  Wrote {new_path}\")"
   ]
  }
 ],
 "metadata": {
  "kernelspec": {
   "display_name": "nlp",
   "language": "python",
   "name": "python3"
  },
  "language_info": {
   "codemirror_mode": {
    "name": "ipython",
    "version": 3
   },
   "file_extension": ".py",
   "mimetype": "text/x-python",
   "name": "python",
   "nbconvert_exporter": "python",
   "pygments_lexer": "ipython3",
   "version": "3.10.12"
  }
 },
 "nbformat": 4,
 "nbformat_minor": 2
}
