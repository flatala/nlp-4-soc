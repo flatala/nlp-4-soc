{
 "cells": [
  {
   "cell_type": "code",
   "execution_count": 9,
   "metadata": {},
   "outputs": [],
   "source": [
    "import json\n",
    "from json import JSONDecodeError\n",
    "from pathlib import Path\n",
    "import pandas as pd"
   ]
  },
  {
   "cell_type": "code",
   "execution_count": 10,
   "metadata": {},
   "outputs": [],
   "source": [
    "\n",
    "ROOT      = Path(\"../experiments/output\")\n",
    "ANALYSES  = {\"entailment\", \"geval\", \"ragas\", \"hitl\"}   # adjust if needed\n",
    "OUTFILE   = Path(\"all_stats.csv\")"
   ]
  },
  {
   "cell_type": "code",
   "execution_count": 11,
   "metadata": {},
   "outputs": [],
   "source": [
    "def load_any(fp: Path):\n",
    "    \"\"\"Return list[dict] from .json, .jsonl or mis-labelled JSON-Lines.\"\"\"\n",
    "    txt = fp.read_text().strip()\n",
    "    try:\n",
    "        data = json.loads(txt)\n",
    "        return data if isinstance(data, list) else [data]\n",
    "    except JSONDecodeError:\n",
    "        return [json.loads(line) for line in txt.splitlines() if line.strip()]\n",
    "\n",
    "\n",
    "def dataset_from_file(fname: str, model: str) -> str:\n",
    "    stem = fname.rsplit(\".\", 1)[0]\n",
    "    tag  = f\"_{model}.stats\"\n",
    "    return stem[:-len(tag)] if stem.endswith(tag) else \"_\".join(stem.split(\"_\")[:2])\n",
    "\n",
    "\n",
    "def flatten(d, parent=\"\", sep=\".\"):\n",
    "    \"\"\"Flatten nested dictionaries.\"\"\"\n",
    "    items = {}\n",
    "    for k, v in d.items():\n",
    "        new_key = f\"{parent}{sep}{k}\" if parent else k\n",
    "        if isinstance(v, dict):\n",
    "            items.update(flatten(v, new_key, sep=sep))\n",
    "        else:\n",
    "            items[new_key] = v\n",
    "    return items"
   ]
  },
  {
   "cell_type": "code",
   "execution_count": 12,
   "metadata": {},
   "outputs": [
    {
     "name": "stdout",
     "output_type": "stream",
     "text": [
      "✓ wrote all_stats.csv with 60 rows and 10 columns\n"
     ]
    }
   ],
   "source": [
    "rows = []\n",
    "\n",
    "for analysis in ANALYSES:\n",
    "    adir = ROOT / analysis\n",
    "    if not adir.exists():\n",
    "        continue\n",
    "\n",
    "    for model_dir in filter(Path.is_dir, adir.iterdir()):\n",
    "        model = model_dir.name\n",
    "\n",
    "        for fp in model_dir.iterdir():\n",
    "            if not fp.name.endswith((\".stats.json\", \".stats.jsonl\")):\n",
    "                continue\n",
    "\n",
    "            dataset = dataset_from_file(fp.name, model)\n",
    "\n",
    "            for idx, stats_obj in enumerate(load_any(fp)):\n",
    "                flat = flatten(stats_obj)\n",
    "\n",
    "                # Remove 'distribution' for HITL\n",
    "                if analysis == \"hitl\":\n",
    "                    flat = {k: v for k, v in flat.items()\n",
    "                            if not (k == \"distribution\" or k.startswith(\"distribution.\"))}\n",
    "\n",
    "                # Prefix every metric key with the analysis name\n",
    "                prefixed = {f\"{analysis}_{k}\": v for k, v in flat.items()}\n",
    "\n",
    "                rows.append({\n",
    "                    \"analysis\": analysis,\n",
    "                    \"model\": model,\n",
    "                    \"dataset\": dataset,\n",
    "                    \"row_id\": idx,          # 0 for normal JSON; >0 for JSON-Lines\n",
    "                    **prefixed,\n",
    "                })\n",
    "\n",
    "# -------------------------------------------------------------- save ---------\n",
    "df = pd.DataFrame(rows)\n",
    "df.to_csv(OUTFILE, index=False)\n",
    "print(f\"✓ wrote {OUTFILE} with {len(df)} rows and {df.shape[1]} columns\")\n"
   ]
  }
 ],
 "metadata": {
  "kernelspec": {
   "display_name": "nlp",
   "language": "python",
   "name": "python3"
  },
  "language_info": {
   "codemirror_mode": {
    "name": "ipython",
    "version": 3
   },
   "file_extension": ".py",
   "mimetype": "text/x-python",
   "name": "python",
   "nbconvert_exporter": "python",
   "pygments_lexer": "ipython3",
   "version": "3.10.12"
  }
 },
 "nbformat": 4,
 "nbformat_minor": 2
}
