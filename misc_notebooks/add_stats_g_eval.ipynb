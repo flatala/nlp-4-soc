{
 "cells": [
  {
   "cell_type": "code",
   "execution_count": 1,
   "metadata": {},
   "outputs": [],
   "source": [
    "import os\n",
    "import json"
   ]
  },
  {
   "cell_type": "code",
   "execution_count": 2,
   "metadata": {},
   "outputs": [],
   "source": [
    "def calculate_average_faithfulness_score(outer_folder_path):\n",
    "    for root, dirs, files in os.walk(outer_folder_path):\n",
    "        for file_name in files:\n",
    "            if file_name.endswith('.results.json'):\n",
    "                file_path = os.path.join(root, file_name)\n",
    "                print(f\"Processing: {file_path}\")\n",
    "                try:\n",
    "                    with open(file_path, 'r', encoding='utf-8') as f:\n",
    "                        data = json.load(f)\n",
    "\n",
    "                    if isinstance(data, list):\n",
    "                        total_score = 0\n",
    "                        count = 0\n",
    "                        for item in data:\n",
    "                            if 'faithfulness_score_0_5' in item:\n",
    "                                total_score += item['faithfulness_score_0_5']\n",
    "                                count += 1\n",
    "\n",
    "                        avg_score = total_score / count if count > 0 else 0\n",
    "\n",
    "                        stats_file_name = file_name.replace('.results.json', '.stats.json')\n",
    "                        stats_file_path = os.path.join(root, stats_file_name)\n",
    "\n",
    "                        with open(stats_file_path, 'w', encoding='utf-8') as f:\n",
    "                            json.dump({\"average_faithfulness_score\": avg_score}, f, indent=4)\n",
    "                        print(f\"  -> Created '{stats_file_name}' with average score: {avg_score:.2f}\")\n",
    "                    else:\n",
    "                        print(f\"  -> Skipping '{file_name}': Not a list of results as expected.\")\n",
    "\n",
    "                except json.JSONDecodeError as e:\n",
    "                    print(f\"  -> Error decoding JSON from '{file_name}': {e}\")\n",
    "                except Exception as e:\n",
    "                    print(f\"  -> An unexpected error occurred with '{file_name}': {e}\")"
   ]
  },
  {
   "cell_type": "code",
   "execution_count": 3,
   "metadata": {},
   "outputs": [
    {
     "name": "stdout",
     "output_type": "stream",
     "text": [
      "Processing: experiments/output/geval/mistral_7b_cot/politi_hop_mistral_7b_cot.results.json\n",
      "  -> Created 'politi_hop_mistral_7b_cot.stats.json' with average score: 4.74\n",
      "Processing: experiments/output/geval/mistral_7b_cot/hover_train_mistral_7b_cot.results.json\n",
      "  -> Created 'hover_train_mistral_7b_cot.stats.json' with average score: 4.37\n",
      "Processing: experiments/output/geval/mistral_7b_cot/covid_fact_mistral_7b_cot.results.json\n",
      "  -> Created 'covid_fact_mistral_7b_cot.stats.json' with average score: 3.84\n",
      "Processing: experiments/output/geval/mistral_7b_non_cot/hover_train_mistral_7b_no_cot.results.json\n",
      "  -> Created 'hover_train_mistral_7b_no_cot.stats.json' with average score: 4.39\n",
      "Processing: experiments/output/geval/mistral_7b_non_cot/covid_fact_mistral_7b_no_cot.results.json\n",
      "  -> Created 'covid_fact_mistral_7b_no_cot.stats.json' with average score: 3.97\n",
      "Processing: experiments/output/geval/mistral_7b_non_cot/politi_hop_mistral_7b_no_cot.results.json\n",
      "  -> Created 'politi_hop_mistral_7b_no_cot.stats.json' with average score: 4.81\n",
      "Processing: experiments/output/geval/gpt4o_cot/covid_fact_gpt4o_cot.results.json\n",
      "  -> Created 'covid_fact_gpt4o_cot.stats.json' with average score: 4.24\n",
      "Processing: experiments/output/geval/gpt4o_cot/hover_train_gpt4o_cot.results.json\n",
      "  -> Created 'hover_train_gpt4o_cot.stats.json' with average score: 4.58\n",
      "Processing: experiments/output/geval/gpt4o_cot/politi_hop_gpt4o_cot.results.json\n",
      "  -> Created 'politi_hop_gpt4o_cot.stats.json' with average score: 4.91\n",
      "Processing: experiments/output/geval/deepseek_r1_32b_cot/covid_fact_depseek_r1_cot.results.json\n",
      "  -> Created 'covid_fact_depseek_r1_cot.stats.json' with average score: 3.74\n",
      "Processing: experiments/output/geval/deepseek_r1_32b_cot/hover_train_depseek-r1-cot.results.json\n",
      "  -> Created 'hover_train_depseek-r1-cot.stats.json' with average score: 4.42\n",
      "Processing: experiments/output/geval/deepseek_r1_32b_cot/politi_hop_depseek_r1_cot.results.json\n",
      "  -> Created 'politi_hop_depseek_r1_cot.stats.json' with average score: 4.79\n",
      "Processing: experiments/output/geval/gpt4o_non_cot/covid_fact_gpt4o_non_cot.results.json\n",
      "  -> Created 'covid_fact_gpt4o_non_cot.stats.json' with average score: 4.21\n",
      "Processing: experiments/output/geval/gpt4o_non_cot/politi_hop_gpt4o_non_cot.results.json\n",
      "  -> Created 'politi_hop_gpt4o_non_cot.stats.json' with average score: 4.91\n",
      "Processing: experiments/output/geval/gpt4o_non_cot/hover_train_gpt4o_non_cot.results.json\n",
      "  -> Created 'hover_train_gpt4o_non_cot.stats.json' with average score: 4.50\n"
     ]
    }
   ],
   "source": [
    "calculate_average_faithfulness_score('experiments/output/geval')"
   ]
  }
 ],
 "metadata": {
  "kernelspec": {
   "display_name": "nlp",
   "language": "python",
   "name": "python3"
  },
  "language_info": {
   "codemirror_mode": {
    "name": "ipython",
    "version": 3
   },
   "file_extension": ".py",
   "mimetype": "text/x-python",
   "name": "python",
   "nbconvert_exporter": "python",
   "pygments_lexer": "ipython3",
   "version": "3.10.12"
  }
 },
 "nbformat": 4,
 "nbformat_minor": 2
}
